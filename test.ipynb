{
 "cells": [
  {
   "cell_type": "code",
   "execution_count": 2,
   "metadata": {},
   "outputs": [
    {
     "name": "stdout",
     "output_type": "stream",
     "text": [
      "0.17029999999999995\n"
     ]
    }
   ],
   "source": [
    "import numpy as np\n",
    "\n",
    "y1 = [5.56,5.70,5.91,6.40,6.80,7.05,8.90,8.70,9.00,9.05]\n",
    "y6 = [5.63,5.63,5.82,6.56,6.83,6.83,8.95,8.95,8.95,8.95]\n",
    "result = np.sum((np.array(y6)-np.array(y1))**2)\n",
    "print(result)"
   ]
  },
  {
   "cell_type": "code",
   "execution_count": null,
   "metadata": {},
   "outputs": [],
   "source": []
  }
 ],
 "metadata": {
  "kernelspec": {
   "display_name": "Python 3",
   "language": "python",
   "name": "python3"
  },
  "language_info": {
   "codemirror_mode": {
    "name": "ipython",
    "version": 3
   },
   "file_extension": ".py",
   "mimetype": "text/x-python",
   "name": "python",
   "nbconvert_exporter": "python",
   "pygments_lexer": "ipython3",
   "version": "3.6.5"
  }
 },
 "nbformat": 4,
 "nbformat_minor": 2
}
