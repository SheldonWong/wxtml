{
 "cells": [
  {
   "cell_type": "code",
   "execution_count": 2,
   "metadata": {},
   "outputs": [],
   "source": [
    "from autograd import elementwise_grad\n",
    "import numpy as np\n",
    "\n",
    "elementwise_hess = lambda func: elementwise_grad(elementwise_grad(func))\n",
    "\n",
    "\n",
    "class BaseLoss(object):\n",
    "    def __init__(self):\n",
    "        pass\n",
    "\n",
    "    def grad(self, preds, labels):\n",
    "        raise NotImplementedError()\n",
    "\n",
    "    def hess(self, preds, labels):\n",
    "        raise NotImplementedError()\n",
    "\n",
    "class LogisticLoss(BaseLoss):\n",
    "    \"\"\"\n",
    "    label is {0,1}\n",
    "    grad = (1-y)/(1-pred) - y/pred\n",
    "    hess = y/pred**2 + (1-y)/(1-pred)**2\n",
    "    \"\"\"\n",
    "    def transform(self, preds):\n",
    "        \"\"\"\n",
    "        logistic tranformation\n",
    "        \"\"\"\n",
    "        return np.clip(1.0/(1.0+np.exp(-preds)),0.00001,0.99999)\n",
    "\n",
    "    def grad(self, preds, labels):\n",
    "        preds = self.transform(preds)\n",
    "        return (1-labels)/(1-preds) - labels/preds\n",
    "\n",
    "    def hess(self, preds, labels):\n",
    "        preds = self.transform(preds)\n",
    "        return labels/np.square(preds) + (1-labels)/np.square(1-preds)"
   ]
  },
  {
   "cell_type": "code",
   "execution_count": 4,
   "metadata": {},
   "outputs": [
    {
     "name": "stdout",
     "output_type": "stream",
     "text": [
      "[0.5        0.5        0.73105858 0.73105858]\n"
     ]
    }
   ],
   "source": [
    "ll = LogisticLoss()\n",
    "\n",
    "preds = np.array([0,0,1,1])\n",
    "\n",
    "print(ll.transform(preds))"
   ]
  },
  {
   "cell_type": "code",
   "execution_count": null,
   "metadata": {},
   "outputs": [],
   "source": []
  }
 ],
 "metadata": {
  "kernelspec": {
   "display_name": "Python 3",
   "language": "python",
   "name": "python3"
  },
  "language_info": {
   "codemirror_mode": {
    "name": "ipython",
    "version": 3
   },
   "file_extension": ".py",
   "mimetype": "text/x-python",
   "name": "python",
   "nbconvert_exporter": "python",
   "pygments_lexer": "ipython3",
   "version": "3.6.3"
  }
 },
 "nbformat": 4,
 "nbformat_minor": 2
}
