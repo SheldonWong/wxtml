{
 "cells": [
  {
   "cell_type": "code",
   "execution_count": 2,
   "metadata": {},
   "outputs": [
    {
     "name": "stdout",
     "output_type": "stream",
     "text": [
      "(100, 4)\n",
      "[0 0 0 0 0 0 0 0 0 0 0 0 0 0 0 0 0 0 0 0 0 0 0 0 0 0 0 0 0 0 0 0 0 0 0 0 0\n",
      " 0 0 0 0 0 0 0 0 0 0 0 0 0 1 1 1 1 1 1 1 1 1 1 1 1 1 1 1 1 1 1 1 1 1 1 1 1\n",
      " 1 1 1 1 1 1 1 1 1 1 1 1 1 1 1 1 1 1 1 1 1 1 1 1 1 1]\n"
     ]
    }
   ],
   "source": [
    "from sklearn import datasets\n",
    "\n",
    "iris = datasets.load_iris()\n",
    "data = iris.data[:100]\n",
    "print(data.shape)\n",
    "#(100L, 4L)\n",
    "#一共有100个样本数据, 维度为4维\n",
    "\n",
    "label = iris.target[:100]\n",
    "print(label)"
   ]
  },
  {
   "cell_type": "code",
   "execution_count": 3,
   "metadata": {},
   "outputs": [
    {
     "name": "stderr",
     "output_type": "stream",
     "text": [
      "/usr/local/lib/python3.7/site-packages/sklearn/cross_validation.py:41: DeprecationWarning: This module was deprecated in version 0.18 in favor of the model_selection module into which all the refactored classes and functions are moved. Also note that the interface of the new CV iterators are different from that of this module. This module will be removed in 0.20.\n",
      "  \"This module will be removed in 0.20.\", DeprecationWarning)\n"
     ]
    }
   ],
   "source": [
    "from sklearn.cross_validation import train_test_split\n",
    "\n",
    "train_x, test_x, train_y, test_y = train_test_split(data, label, random_state=0)"
   ]
  },
  {
   "cell_type": "code",
   "execution_count": 11,
   "metadata": {},
   "outputs": [],
   "source": [
    "import xgboost as xgb\n",
    "dtrain=xgb.DMatrix(train_x,label=train_y)\n",
    "dtest=xgb.DMatrix(test_x)\n",
    "\n",
    "params={'booster':'gbtree',\n",
    "    'objective': 'binary:logistic',\n",
    "    'eval_metric': 'auc',\n",
    "    'max_depth':4,\n",
    "    'lambda':10,\n",
    "    'subsample':0.75,\n",
    "    'colsample_bytree':0.75,\n",
    "    'min_child_weight':2,\n",
    "    'eta': 0.025,\n",
    "    'seed':0,\n",
    "    'nthread':8,\n",
    "     'silent':1}\n",
    "\n",
    "watchlist = [(dtrain,'train')]"
   ]
  },
  {
   "cell_type": "code",
   "execution_count": 13,
   "metadata": {},
   "outputs": [
    {
     "name": "stdout",
     "output_type": "stream",
     "text": [
      "[0]\ttrain-auc:1\n",
      "[1]\ttrain-auc:1\n",
      "[2]\ttrain-auc:1\n",
      "[3]\ttrain-auc:1\n",
      "[4]\ttrain-auc:1\n",
      "[5]\ttrain-auc:1\n",
      "[6]\ttrain-auc:1\n",
      "[7]\ttrain-auc:1\n",
      "[8]\ttrain-auc:1\n",
      "[9]\ttrain-auc:1\n",
      "[10]\ttrain-auc:1\n",
      "[11]\ttrain-auc:1\n",
      "[12]\ttrain-auc:1\n",
      "[13]\ttrain-auc:1\n",
      "[14]\ttrain-auc:1\n",
      "[15]\ttrain-auc:1\n",
      "[16]\ttrain-auc:1\n",
      "[17]\ttrain-auc:1\n",
      "[18]\ttrain-auc:1\n",
      "[19]\ttrain-auc:1\n",
      "[20]\ttrain-auc:1\n",
      "[21]\ttrain-auc:1\n",
      "[22]\ttrain-auc:1\n",
      "[23]\ttrain-auc:1\n",
      "[24]\ttrain-auc:1\n",
      "[25]\ttrain-auc:1\n",
      "[26]\ttrain-auc:1\n",
      "[27]\ttrain-auc:1\n",
      "[28]\ttrain-auc:1\n",
      "[29]\ttrain-auc:1\n",
      "[30]\ttrain-auc:1\n",
      "[31]\ttrain-auc:1\n",
      "[32]\ttrain-auc:1\n",
      "[33]\ttrain-auc:1\n",
      "[34]\ttrain-auc:1\n",
      "[35]\ttrain-auc:1\n",
      "[36]\ttrain-auc:1\n",
      "[37]\ttrain-auc:1\n",
      "[38]\ttrain-auc:1\n",
      "[39]\ttrain-auc:1\n",
      "[40]\ttrain-auc:1\n",
      "[41]\ttrain-auc:1\n",
      "[42]\ttrain-auc:1\n",
      "[43]\ttrain-auc:1\n",
      "[44]\ttrain-auc:1\n",
      "[45]\ttrain-auc:1\n",
      "[46]\ttrain-auc:1\n",
      "[47]\ttrain-auc:1\n",
      "[48]\ttrain-auc:1\n",
      "[49]\ttrain-auc:1\n",
      "[50]\ttrain-auc:1\n",
      "[51]\ttrain-auc:1\n",
      "[52]\ttrain-auc:1\n",
      "[53]\ttrain-auc:1\n",
      "[54]\ttrain-auc:1\n",
      "[55]\ttrain-auc:1\n",
      "[56]\ttrain-auc:1\n",
      "[57]\ttrain-auc:1\n",
      "[58]\ttrain-auc:1\n",
      "[59]\ttrain-auc:1\n",
      "[60]\ttrain-auc:1\n",
      "[61]\ttrain-auc:1\n",
      "[62]\ttrain-auc:1\n",
      "[63]\ttrain-auc:1\n",
      "[64]\ttrain-auc:1\n",
      "[65]\ttrain-auc:1\n",
      "[66]\ttrain-auc:1\n",
      "[67]\ttrain-auc:1\n",
      "[68]\ttrain-auc:1\n",
      "[69]\ttrain-auc:1\n",
      "[70]\ttrain-auc:1\n",
      "[71]\ttrain-auc:1\n",
      "[72]\ttrain-auc:1\n",
      "[73]\ttrain-auc:1\n",
      "[74]\ttrain-auc:1\n",
      "[75]\ttrain-auc:1\n",
      "[76]\ttrain-auc:1\n",
      "[77]\ttrain-auc:1\n",
      "[78]\ttrain-auc:1\n",
      "[79]\ttrain-auc:1\n",
      "[80]\ttrain-auc:1\n",
      "[81]\ttrain-auc:1\n",
      "[82]\ttrain-auc:1\n",
      "[83]\ttrain-auc:1\n",
      "[84]\ttrain-auc:1\n",
      "[85]\ttrain-auc:1\n",
      "[86]\ttrain-auc:1\n",
      "[87]\ttrain-auc:1\n",
      "[88]\ttrain-auc:1\n",
      "[89]\ttrain-auc:1\n",
      "[90]\ttrain-auc:1\n",
      "[91]\ttrain-auc:1\n",
      "[92]\ttrain-auc:1\n",
      "[93]\ttrain-auc:1\n",
      "[94]\ttrain-auc:1\n",
      "[95]\ttrain-auc:1\n",
      "[96]\ttrain-auc:1\n",
      "[97]\ttrain-auc:1\n",
      "[98]\ttrain-auc:1\n",
      "[99]\ttrain-auc:1\n",
      "AUC: 1.0000\n",
      "ACC: 1.0000\n",
      "Recall: 1.0000\n",
      "F1-score: 1.0000\n",
      "Precesion: 1.0000\n"
     ]
    },
    {
     "data": {
      "text/plain": [
       "array([[13,  0],\n",
       "       [ 0, 12]])"
      ]
     },
     "execution_count": 13,
     "metadata": {},
     "output_type": "execute_result"
    }
   ],
   "source": [
    "bst = xgb.train(params,dtrain,num_boost_round=100,evals=watchlist)\n",
    "\n",
    "ypred=bst.predict(dtest)\n",
    "\n",
    "# 设置阈值, 输出一些评价指标\n",
    "y_pred = (ypred >= 0.5)*1\n",
    "\n",
    "from sklearn import metrics\n",
    "print('AUC: %.4f' % metrics.roc_auc_score(test_y,ypred))\n",
    "print('ACC: %.4f' % metrics.accuracy_score(test_y,y_pred))\n",
    "print('Recall: %.4f' % metrics.recall_score(test_y,y_pred))\n",
    "print('F1-score: %.4f' %metrics.f1_score(test_y,y_pred))\n",
    "print('Precesion: %.4f' %metrics.precision_score(test_y,y_pred))\n",
    "metrics.confusion_matrix(test_y,y_pred)"
   ]
  },
  {
   "cell_type": "code",
   "execution_count": 29,
   "metadata": {},
   "outputs": [
    {
     "name": "stdout",
     "output_type": "stream",
     "text": [
      "[0.1986771 0.8025874 0.1986771 0.8025874 0.8025874 0.8025874 0.1986771\n",
      " 0.8025874 0.8025874 0.8025874 0.8025874 0.8025874 0.8025874 0.1986771\n",
      " 0.1986771 0.1986771 0.1986771 0.1986771 0.1986771 0.1986771 0.1986771\n",
      " 0.8025874 0.1986771 0.8025874 0.1986771]\n",
      "[0 1 0 1 1 1 0 1 1 1 1 1 1 0 0 0 0 0 0 0 0 1 0 1 0]\n"
     ]
    }
   ],
   "source": [
    "ypred = bst.predict(dtest)\n",
    "print(ypred)\n",
    "print(test_y)"
   ]
  },
  {
   "cell_type": "code",
   "execution_count": 30,
   "metadata": {},
   "outputs": [
    {
     "data": {
      "text/plain": [
       "array([[1, 1, 1, ..., 1, 1, 1],\n",
       "       [2, 2, 2, ..., 2, 2, 2],\n",
       "       [1, 1, 1, ..., 1, 1, 1],\n",
       "       ...,\n",
       "       [1, 1, 1, ..., 1, 1, 1],\n",
       "       [2, 2, 2, ..., 2, 2, 2],\n",
       "       [1, 1, 1, ..., 1, 1, 1]], dtype=int32)"
      ]
     },
     "execution_count": 30,
     "metadata": {},
     "output_type": "execute_result"
    }
   ],
   "source": [
    "ypred_leaf = bst.predict(dtest, pred_leaf=True)\n",
    "ypred_leaf"
   ]
  },
  {
   "cell_type": "code",
   "execution_count": 31,
   "metadata": {},
   "outputs": [
    {
     "data": {
      "image/svg+xml": [
       "<?xml version=\"1.0\" encoding=\"UTF-8\" standalone=\"no\"?>\n",
       "<!DOCTYPE svg PUBLIC \"-//W3C//DTD SVG 1.1//EN\"\n",
       " \"http://www.w3.org/Graphics/SVG/1.1/DTD/svg11.dtd\">\n",
       "<!-- Generated by graphviz version 2.40.1 (20161225.0304)\n",
       " -->\n",
       "<!-- Title: %3 Pages: 1 -->\n",
       "<svg width=\"274pt\" height=\"223pt\"\n",
       " viewBox=\"0.00 0.00 274.21 222.93\" xmlns=\"http://www.w3.org/2000/svg\" xmlns:xlink=\"http://www.w3.org/1999/xlink\">\n",
       "<g id=\"graph0\" class=\"graph\" transform=\"scale(1 1) rotate(0) translate(4 218.9347)\">\n",
       "<title>%3</title>\n",
       "<polygon fill=\"#ffffff\" stroke=\"transparent\" points=\"-4,4 -4,-218.9347 270.2061,-218.9347 270.2061,4 -4,4\"/>\n",
       "<!-- 0 -->\n",
       "<g id=\"node1\" class=\"node\">\n",
       "<title>0</title>\n",
       "<ellipse fill=\"none\" stroke=\"#000000\" cx=\"136.0186\" cy=\"-150.4674\" rx=\"64.4347\" ry=\"64.4347\"/>\n",
       "<text text-anchor=\"middle\" x=\"136.0186\" y=\"-146.2674\" font-family=\"Times,serif\" font-size=\"14.00\" fill=\"#000000\">f2&lt;2.45000005</text>\n",
       "</g>\n",
       "<!-- 1 -->\n",
       "<g id=\"node2\" class=\"node\">\n",
       "<title>1</title>\n",
       "<polygon fill=\"none\" stroke=\"#000000\" points=\"130.0557,-36 -.0186,-36 -.0186,0 130.0557,0 130.0557,-36\"/>\n",
       "<text text-anchor=\"middle\" x=\"65.0186\" y=\"-13.8\" font-family=\"Times,serif\" font-size=\"14.00\" fill=\"#000000\">leaf=&#45;0.0196969714</text>\n",
       "</g>\n",
       "<!-- 0&#45;&gt;1 -->\n",
       "<g id=\"edge1\" class=\"edge\">\n",
       "<title>0&#45;&gt;1</title>\n",
       "<path fill=\"none\" stroke=\"#0000ff\" d=\"M105.4961,-93.5205C96.518,-76.7698 87.1066,-59.2106 79.6205,-45.2435\"/>\n",
       "<polygon fill=\"#0000ff\" stroke=\"#0000ff\" points=\"82.5834,-43.3623 74.7744,-36.2019 76.4137,-46.6692 82.5834,-43.3623\"/>\n",
       "<text text-anchor=\"middle\" x=\"124.6323\" y=\"-56.8\" font-family=\"Times,serif\" font-size=\"14.00\" fill=\"#000000\">yes, missing</text>\n",
       "</g>\n",
       "<!-- 2 -->\n",
       "<g id=\"node3\" class=\"node\">\n",
       "<title>2</title>\n",
       "<polygon fill=\"none\" stroke=\"#000000\" points=\"266.3942,-36 147.643,-36 147.643,0 266.3942,0 266.3942,-36\"/>\n",
       "<text text-anchor=\"middle\" x=\"207.0186\" y=\"-13.8\" font-family=\"Times,serif\" font-size=\"14.00\" fill=\"#000000\">leaf=0.021428572</text>\n",
       "</g>\n",
       "<!-- 0&#45;&gt;2 -->\n",
       "<g id=\"edge2\" class=\"edge\">\n",
       "<title>0&#45;&gt;2</title>\n",
       "<path fill=\"none\" stroke=\"#ff0000\" d=\"M166.541,-93.5205C175.5191,-76.7698 184.9305,-59.2106 192.4166,-45.2435\"/>\n",
       "<polygon fill=\"#ff0000\" stroke=\"#ff0000\" points=\"195.6234,-46.6692 197.2627,-36.2019 189.4538,-43.3623 195.6234,-46.6692\"/>\n",
       "<text text-anchor=\"middle\" x=\"193.0186\" y=\"-56.8\" font-family=\"Times,serif\" font-size=\"14.00\" fill=\"#000000\">no</text>\n",
       "</g>\n",
       "</g>\n",
       "</svg>\n"
      ],
      "text/plain": [
       "<graphviz.dot.Digraph at 0x10ccf7390>"
      ]
     },
     "execution_count": 31,
     "metadata": {},
     "output_type": "execute_result"
    }
   ],
   "source": [
    "xgb.to_graphviz(bst, num_trees=0)"
   ]
  },
  {
   "cell_type": "code",
   "execution_count": 32,
   "metadata": {},
   "outputs": [],
   "source": [
    "bst.dump_model(\"model.txt\")"
   ]
  },
  {
   "cell_type": "code",
   "execution_count": 33,
   "metadata": {},
   "outputs": [
    {
     "name": "stdout",
     "output_type": "stream",
     "text": [
      "['__class__', '__copy__', '__deepcopy__', '__del__', '__delattr__', '__dict__', '__dir__', '__doc__', '__eq__', '__format__', '__ge__', '__getattribute__', '__getstate__', '__gt__', '__hash__', '__init__', '__init_subclass__', '__le__', '__lt__', '__module__', '__ne__', '__new__', '__reduce__', '__reduce_ex__', '__repr__', '__setattr__', '__setstate__', '__sizeof__', '__str__', '__subclasshook__', '__weakref__', '_validate_features', 'attr', 'attributes', 'best_iteration', 'best_ntree_limit', 'boost', 'copy', 'dump_model', 'eval', 'eval_set', 'feature_names', 'feature_types', 'get_dump', 'get_fscore', 'get_score', 'get_split_value_histogram', 'handle', 'load_model', 'load_rabit_checkpoint', 'predict', 'save_model', 'save_rabit_checkpoint', 'save_raw', 'set_attr', 'set_param', 'update']\n"
     ]
    }
   ],
   "source": [
    "print(dir(bst))"
   ]
  },
  {
   "cell_type": "code",
   "execution_count": 34,
   "metadata": {},
   "outputs": [
    {
     "name": "stdout",
     "output_type": "stream",
     "text": [
      "[[ 0.          0.         -1.1223897  -0.28784105  0.01564738]\n",
      " [ 0.          0.          1.0926375   0.29425964  0.01564738]\n",
      " [ 0.          0.         -1.1223897  -0.28784105  0.01564738]\n",
      " [ 0.          0.          1.0926375   0.29425964  0.01564738]\n",
      " [ 0.          0.          1.0926375   0.29425964  0.01564738]\n",
      " [ 0.          0.          1.0926375   0.29425964  0.01564738]\n",
      " [ 0.          0.         -1.1223897  -0.28784105  0.01564738]\n",
      " [ 0.          0.          1.0926375   0.29425964  0.01564738]\n",
      " [ 0.          0.          1.0926375   0.29425964  0.01564738]\n",
      " [ 0.          0.          1.0926375   0.29425964  0.01564738]\n",
      " [ 0.          0.          1.0926375   0.29425964  0.01564738]\n",
      " [ 0.          0.          1.0926375   0.29425964  0.01564738]\n",
      " [ 0.          0.          1.0926375   0.29425964  0.01564738]\n",
      " [ 0.          0.         -1.1223897  -0.28784105  0.01564738]\n",
      " [ 0.          0.         -1.1223897  -0.28784105  0.01564738]\n",
      " [ 0.          0.         -1.1223897  -0.28784105  0.01564738]\n",
      " [ 0.          0.         -1.1223897  -0.28784105  0.01564738]\n",
      " [ 0.          0.         -1.1223897  -0.28784105  0.01564738]\n",
      " [ 0.          0.         -1.1223897  -0.28784105  0.01564738]\n",
      " [ 0.          0.         -1.1223897  -0.28784105  0.01564738]\n",
      " [ 0.          0.         -1.1223897  -0.28784105  0.01564738]\n",
      " [ 0.          0.          1.0926375   0.29425964  0.01564738]\n",
      " [ 0.          0.         -1.1223897  -0.28784105  0.01564738]\n",
      " [ 0.          0.          1.0926375   0.29425964  0.01564738]\n",
      " [ 0.          0.         -1.1223897  -0.28784105  0.01564738]]\n",
      "25\n"
     ]
    }
   ],
   "source": [
    "# 特征重要性\n",
    "ypred_contribs = bst.predict(dtest, pred_contribs=True)\n",
    "print(ypred_contribs)\n",
    "print(len(ypred_contribs))"
   ]
  },
  {
   "cell_type": "code",
   "execution_count": 36,
   "metadata": {},
   "outputs": [
    {
     "name": "stdout",
     "output_type": "stream",
     "text": [
      "-1.394583348184824\n",
      "0.19867705939550995\n",
      "1.402544554322958\n"
     ]
    }
   ],
   "source": [
    "import numpy as np\n",
    "# 第0个测试样本的得分\n",
    "score_a = sum(ypred_contribs[0])\n",
    "print(score_a)\n",
    "# -1.38121373579\n",
    "print(1/float(1+np.exp(-score_a)))\n",
    "\n",
    "score_b = sum(ypred_contribs[1])\n",
    "print(score_b)\n",
    "# 1.41094945744"
   ]
  },
  {
   "cell_type": "code",
   "execution_count": null,
   "metadata": {},
   "outputs": [],
   "source": []
  }
 ],
 "metadata": {
  "kernelspec": {
   "display_name": "Python 3",
   "language": "python",
   "name": "python3"
  },
  "language_info": {
   "codemirror_mode": {
    "name": "ipython",
    "version": 3
   },
   "file_extension": ".py",
   "mimetype": "text/x-python",
   "name": "python",
   "nbconvert_exporter": "python",
   "pygments_lexer": "ipython3",
   "version": "3.7.0"
  }
 },
 "nbformat": 4,
 "nbformat_minor": 2
}
