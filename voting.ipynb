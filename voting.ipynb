{
 "cells": [
  {
   "cell_type": "code",
   "execution_count": 5,
   "metadata": {},
   "outputs": [
    {
     "name": "stdout",
     "output_type": "stream",
     "text": [
      "[2]\n",
      "[Counter({2: 5, 1: 5, 3: 2})]\n"
     ]
    }
   ],
   "source": [
    "from collections import Counter\n",
    "\n",
    "#a_l = [[1,1,1,1,1,2,2,2,2,2,3,3]]\n",
    "a_l = [[2,2,2,2,2,1,1,1,1,1,3,3]]\n",
    "def voting(class_l):\n",
    "\tfinal_class = []\n",
    "\tc_l = []\n",
    "\tfor row in class_l:\n",
    "\t\tc = Counter(row)\n",
    "\t\tc_v_set = set(c.values())\n",
    "\t\t# 票数不等取最大\n",
    "\t\tif(len(c_v_set) > 1):\n",
    "\t\t\tres = max(c,key=c.get) \n",
    "\t\telse: # 票数相等取最好结果的的值\n",
    "\t\t\tres = row[max_idx]\n",
    "\t\tfinal_class.append(res)\n",
    "\t\tc_l.append(c)\t\n",
    "\treturn final_class,c_l\n",
    "\n",
    "final_class,c = voting(a_l)\n",
    "print(final_class)\n",
    "print(c)"
   ]
  },
  {
   "cell_type": "code",
   "execution_count": null,
   "metadata": {},
   "outputs": [],
   "source": []
  }
 ],
 "metadata": {
  "kernelspec": {
   "display_name": "Python 3",
   "language": "python",
   "name": "python3"
  },
  "language_info": {
   "codemirror_mode": {
    "name": "ipython",
    "version": 3
   },
   "file_extension": ".py",
   "mimetype": "text/x-python",
   "name": "python",
   "nbconvert_exporter": "python",
   "pygments_lexer": "ipython3",
   "version": "3.6.3"
  }
 },
 "nbformat": 4,
 "nbformat_minor": 2
}
