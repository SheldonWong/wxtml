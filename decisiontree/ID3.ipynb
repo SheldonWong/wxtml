{
 "cells": [
  {
   "cell_type": "code",
   "execution_count": null,
   "metadata": {},
   "outputs": [],
   "source": [
    "1. 定义数据"
   ]
  },
  {
   "cell_type": "code",
   "execution_count": 81,
   "metadata": {},
   "outputs": [],
   "source": [
    "def createDataSet():\n",
    "    dataset = [[0, 0, 0, 0, 'N'], \n",
    "               [0, 0, 0, 1, 'N'], \n",
    "               [1, 0, 0, 0, 'Y'], \n",
    "               [2, 1, 0, 0, 'Y'], \n",
    "               [2, 2, 1, 0, 'Y'], \n",
    "               [2, 2, 1, 1, 'N'], \n",
    "               [1, 2, 1, 1, 'Y']]\n",
    "    labels = ['outlook', 'temperature', 'humidity', 'windy']\n",
    "    return dataset, labels\n",
    "\n",
    "\n",
    "def createDataSet2():\n",
    "    dataSet = [[1, 1, 'yes'],\n",
    "               [1, 1, 'yes'],\n",
    "               [1, 0, 'no'],\n",
    "               [0, 1, 'no'],\n",
    "               [0, 1, 'no']]\n",
    "    labels = ['no surfacing','flippers']\n",
    "    return dataSet, labels\n"
   ]
  },
  {
   "cell_type": "code",
   "execution_count": 82,
   "metadata": {},
   "outputs": [
    {
     "name": "stdout",
     "output_type": "stream",
     "text": [
      "[[1, 1, 'yes'], [1, 1, 'yes'], [1, 0, 'no'], [0, 1, 'no'], [0, 1, 'no']]\n",
      "['no surfacing', 'flippers']\n"
     ]
    }
   ],
   "source": [
    "dataSet,labels = createDataSet2()\n",
    "print(dataSet)\n",
    "print(labels)"
   ]
  },
  {
   "cell_type": "markdown",
   "metadata": {},
   "source": [
    "2. 计算熵"
   ]
  },
  {
   "cell_type": "code",
   "execution_count": 83,
   "metadata": {},
   "outputs": [
    {
     "name": "stdout",
     "output_type": "stream",
     "text": [
      "{'yes': 2, 'no': 3}\n",
      "0.9709505944546686\n"
     ]
    }
   ],
   "source": [
    "from math import log\n",
    "\n",
    "# unique value\n",
    "def unique(dataset):\n",
    "    labelCounts = {}\n",
    "    for featVec in dataset: #the the number of unique elements and their occurance\n",
    "        currentLabel = featVec[-1]\n",
    "        if currentLabel not in labelCounts.keys(): labelCounts[currentLabel] = 0\n",
    "        labelCounts[currentLabel] += 1\n",
    "    \n",
    "    return labelCounts\n",
    "\n",
    "print(unique(dataSet))\n",
    "\n",
    "def entropy(dataset):\n",
    "    numEntries = len(dataset)  \n",
    "    shannonEnt = 0.0\n",
    "    labelCounts = unique(dataset)\n",
    "    for key in labelCounts:\n",
    "        prob = float(labelCounts[key])/numEntries\n",
    "        shannonEnt -= prob * log(prob,2) #log base 2\n",
    "    return shannonEnt\n",
    "\n",
    "print(entropy(dataSet))"
   ]
  },
  {
   "cell_type": "markdown",
   "metadata": {},
   "source": [
    "3. 选择最佳特征"
   ]
  },
  {
   "cell_type": "code",
   "execution_count": 84,
   "metadata": {},
   "outputs": [
    {
     "name": "stdout",
     "output_type": "stream",
     "text": [
      "以第0个特征为分裂特征进行分裂数据集，\n",
      "分裂特征值为0的子集合： [[1, 'no'], [1, 'no']]\n",
      "分裂特征值为1的子集合： [[1, 'yes'], [1, 'yes'], [0, 'no']]\n",
      "分裂特征值为2的子集合： []\n"
     ]
    }
   ],
   "source": [
    "# 根据指定的特征来分裂数据集\n",
    "# dataSet:数据集（MxN），axis：特征的索引，即第几个特征：，value：所选特征的取值\n",
    "# 返回一个数据集，该数据集以axis索引表示的特征为分裂特征，并且该分裂特征的值为value时得到的。\n",
    "\n",
    "# @sheldowong 它的做法是，在分裂时，将分裂特征对应的列去掉，按照分裂特征的取值划分数据集，也就是，每次划分以后，特征就会减少一列\n",
    "def splitDataSet(dataSet, axis, value):\n",
    "    retDataSet = []\n",
    "    for featVec in dataSet:\n",
    "        if featVec[axis] == value:\n",
    "            reducedFeatVec = featVec[:axis]     #chop out axis used for splitting\n",
    "            reducedFeatVec.extend(featVec[axis+1:])\n",
    "            retDataSet.append(reducedFeatVec)\n",
    "    return retDataSet\n",
    "# 返回分裂特征的索引\n",
    "print('以第0个特征为分裂特征进行分裂数据集，')\n",
    "print('分裂特征值为0的子集合：',splitDataSet(dataSet,0,0))\n",
    "print('分裂特征值为1的子集合：',splitDataSet(dataSet,0,1))\n",
    "print('分裂特征值为2的子集合：',splitDataSet(dataSet,0,2))"
   ]
  },
  {
   "cell_type": "code",
   "execution_count": 85,
   "metadata": {},
   "outputs": [
    {
     "name": "stdout",
     "output_type": "stream",
     "text": [
      "no surfacing\n",
      "分裂特征的索引为： 0\n"
     ]
    }
   ],
   "source": [
    "def chooseBestFeatureToSplit(dataSet):\n",
    "    # 特征个数\n",
    "    numFeatures = len(dataSet[0]) - 1# 数据集中元素的最后一列为类别标签，所以需减1\n",
    "    # 信息熵\n",
    "    baseEntropy = entropy(dataSet)\n",
    "    # 信息增益\n",
    "    bestInfoGain = 0.0; bestFeature = -1# 初始化\n",
    "   \n",
    "    #遍历特征\n",
    "    for i in range(numFeatures):\n",
    "        featList = [element[i] for element in dataSet]# 得到数据集中第i个特征的所有取值\n",
    "        uniqueVals = set(featList)# 对featList去重,得到第i个特征的特征值集合\n",
    "        newEntropy = 0.0\n",
    "        \n",
    "        for value in uniqueVals:\n",
    "            subDataSet = splitDataSet(dataSet,i,value)\n",
    "            prob = len(subDataSet)/float(len(dataSet))\n",
    "            newEntropy += prob * entropy(subDataSet)\n",
    "        infoGain = baseEntropy - newEntropy\n",
    "        \n",
    "        if(infoGain > bestInfoGain):\n",
    "            bestInfoGain = infoGain\n",
    "            bestFeature = i\n",
    "    return bestFeature\n",
    "bestFeature = chooseBestFeatureToSplit(dataSet)\n",
    "print(labels[bestFeature])\n",
    "\n",
    "print( '分裂特征的索引为：',bestFeature)"
   ]
  },
  {
   "cell_type": "markdown",
   "metadata": {},
   "source": [
    "4. 根据最佳特征划分数据"
   ]
  },
  {
   "cell_type": "code",
   "execution_count": null,
   "metadata": {},
   "outputs": [],
   "source": []
  },
  {
   "cell_type": "markdown",
   "metadata": {},
   "source": [
    "5. 构建决策树（1. 多重字典 2. 树结构）"
   ]
  },
  {
   "cell_type": "code",
   "execution_count": 86,
   "metadata": {},
   "outputs": [],
   "source": [
    "import operator\n",
    " \n",
    "#多数表决\n",
    "def majorityCnt(classList):\n",
    "    classCount = {}\n",
    "    for vote in classList:\n",
    "        if vote not in classCount.keys(): classCount[vote] = 0\n",
    "        classCount[vote] += 1\n",
    "    sortedClassCount = sorted(classCount.iteritems(),key=operator.itemgetter(1),reverse=True)\n",
    "    return sortedClassCount[0][0]"
   ]
  },
  {
   "cell_type": "code",
   "execution_count": 87,
   "metadata": {},
   "outputs": [
    {
     "name": "stdout",
     "output_type": "stream",
     "text": [
      "['flippers']\n",
      "['flippers']\n",
      "[]\n",
      "[]\n",
      "{\n",
      "    \"no surfacing\": {\n",
      "        \"0\": \"no\",\n",
      "        \"1\": {\n",
      "            \"flippers\": {\n",
      "                \"0\": \"no\",\n",
      "                \"1\": \"yes\"\n",
      "            }\n",
      "        }\n",
      "    }\n",
      "}\n"
     ]
    }
   ],
   "source": [
    "# 创建决策树\n",
    "def createTree(dataSet,labels):\n",
    "    classList = [example[-1] for example in dataSet]\n",
    "    \n",
    "    ### 终止条件\n",
    "    if classList.count(classList[0]) == len(classList): \n",
    "        return classList[0]# 类别完全相同则停止继续划分\n",
    "    \n",
    "    if len(dataSet[0]) == 1: # 遍历完所有特征时返回出现次数最多的\n",
    "        return majorityCnt(classList)\n",
    "    \n",
    "    ### 选择最佳特征，划分数据集\n",
    "    bestFeat = chooseBestFeatureToSplit(dataSet)\n",
    "\n",
    "    bestFeatLabel = labels[bestFeat]\n",
    "    myTree = {bestFeatLabel:{}}\n",
    "    del(labels[bestFeat])\n",
    "    \n",
    "    \n",
    "    featValues = [example[bestFeat] for example in dataSet]\n",
    "    uniqueVals = set(featValues)\n",
    "    for value in uniqueVals:\n",
    "        subLabels = labels[:]   #copy all of labels, so trees don't mess up existing labels\n",
    "        print(subLabels)\n",
    "        myTree[bestFeatLabel][value] = createTree(splitDataSet(dataSet, bestFeat, value),subLabels)\n",
    "    return myTree \n",
    "\n",
    "myTree= createTree(dataSet,labels)\n",
    "\n",
    "import json\n",
    "print(json.dumps(myTree,indent=4))"
   ]
  },
  {
   "cell_type": "code",
   "execution_count": null,
   "metadata": {},
   "outputs": [],
   "source": []
  }
 ],
 "metadata": {
  "kernelspec": {
   "display_name": "Python 3",
   "language": "python",
   "name": "python3"
  },
  "language_info": {
   "codemirror_mode": {
    "name": "ipython",
    "version": 3
   },
   "file_extension": ".py",
   "mimetype": "text/x-python",
   "name": "python",
   "nbconvert_exporter": "python",
   "pygments_lexer": "ipython3",
   "version": "3.7.0"
  }
 },
 "nbformat": 4,
 "nbformat_minor": 2
}
