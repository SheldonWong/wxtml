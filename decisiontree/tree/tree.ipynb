{
 "cells": [
  {
   "cell_type": "code",
   "execution_count": 4,
   "metadata": {},
   "outputs": [
    {
     "name": "stdout",
     "output_type": "stream",
     "text": [
      "dict_keys(['Name', 'Age', 'Class'])\n",
      "<class 'dict_keys'>\n",
      "['Name', 'Age', 'Class']\n"
     ]
    }
   ],
   "source": [
    "zara = {'Name': 'Zara', 'Age': 7, 'Class': 'First'}\n",
    "\n",
    "print(type(zara.keys()))\n",
    "print(zara.keys())\n",
    "print(list(zara.keys()))"
   ]
  },
  {
   "cell_type": "markdown",
   "metadata": {},
   "source": [
    "## 嵌套字典的树形打印"
   ]
  },
  {
   "cell_type": "code",
   "execution_count": 5,
   "metadata": {},
   "outputs": [
    {
     "name": "stdout",
     "output_type": "stream",
     "text": [
      "{\n",
      "    \"no surfacing\": {\n",
      "        \"1\": {\n",
      "            \"flippers\": {\n",
      "                \"1\": \"yes\",\n",
      "                \"0\": \"no\"\n",
      "            }\n",
      "        },\n",
      "        \"0\": \"no\"\n",
      "    }\n",
      "}\n"
     ]
    }
   ],
   "source": [
    "# 嵌套字典\n",
    "myTree = {'no surfacing':           #root\n",
    "                        {'1':       #left subtree\n",
    "                                {'flippers': \n",
    "                                    {'1': 'yes', \n",
    "                                    '0': 'no'}\n",
    "                                }, \n",
    "\n",
    "                        '0': 'no'   #right subtree\n",
    "                        }\n",
    "            }\n",
    "#print(myTree)\n",
    "import json \n",
    "\n",
    "print(json.dumps(myTree, indent=4))"
   ]
  },
  {
   "cell_type": "code",
   "execution_count": null,
   "metadata": {},
   "outputs": [],
   "source": []
  }
 ],
 "metadata": {
  "kernelspec": {
   "display_name": "Python 3",
   "language": "python",
   "name": "python3"
  },
  "language_info": {
   "codemirror_mode": {
    "name": "ipython",
    "version": 3
   },
   "file_extension": ".py",
   "mimetype": "text/x-python",
   "name": "python",
   "nbconvert_exporter": "python",
   "pygments_lexer": "ipython3",
   "version": "3.7.0"
  }
 },
 "nbformat": 4,
 "nbformat_minor": 2
}
